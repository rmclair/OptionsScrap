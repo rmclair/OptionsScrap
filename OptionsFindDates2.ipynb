{
 "cells": [
  {
   "cell_type": "code",
   "execution_count": 4,
   "metadata": {
    "scrolled": true
   },
   "outputs": [
    {
     "name": "stdout",
     "output_type": "stream",
     "text": [
      "200\n",
      "1507248000,1507852800,1508457600,1509062400,1509667200,1510272000,1510876800,1511481600,1513296000,1516320000,1521158400,1529020800,1537488000,1547769600\n",
      "['1507248000', '1507852800', '1508457600', '1509062400', '1509667200', '1510272000', '1510876800', '1511481600', '1513296000', '1516320000', '1521158400', '1529020800', '1537488000', ['1547769600']]\n",
      "14\n"
     ]
    }
   ],
   "source": [
    "##Module to pull out all of the date placeholder values for Yahoo options\n",
    "##Test Code used to experiment with html data for later function definitions\n",
    "\n",
    "#perform HTML request using requests module\n",
    "import requests\n",
    "\n",
    "#define stock ticker input value any stock symbol can be used for 'tikr'\n",
    "tikr = 'MO'\n",
    "headers = {'User-Agent': 'Chrome/46.0.2490.80', 'Content-Type': 'text/html',}\n",
    "#get HTML data\n",
    "r = requests.get('https://finance.yahoo.com/quote/'+tikr+'/options?p='+tikr, headers, timeout=5)\n",
    "#determine and output if request was good\n",
    "q = r.status_code\n",
    "print(q)\n",
    "#organize html data using Beautiful Soup\n",
    "from bs4 import BeautifulSoup\n",
    "#turn HTML content into string for Python string processing\n",
    "soup = BeautifulSoup(r.content, 'lxml')\n",
    "s = str(soup)\n",
    "\n",
    "\n",
    "#use string serch queries to find desired values\n",
    "exp = 'expirationDates\":['     #beginning of string search\n",
    "a = s.find(exp)+len(exp)       #set var 'a' to start\n",
    "#print(s[a:a+200])             #test code\n",
    "b = s.find(']',a)              #end of string search set var 'b' to end\n",
    "li = s[a:b]                    #extract desired string 'li' from s\n",
    "\n",
    "#initilize variables for processing string 'li'\n",
    "end = ','\n",
    "s = 0\n",
    "e = 0\n",
    "pl = []\n",
    "\n",
    "#modify list pl to include each value of li separated by a comma 'end'\n",
    "while s < len(li) and e != -1:\n",
    "    beg = s\n",
    "    e = li.find(end, beg)\n",
    "    pl = pl + [li[beg:e]]\n",
    "    s = e+1\n",
    "\n",
    "#account for unique case that the last value does not have a comma at the end\n",
    "pl[-1]=[pl[-1]+li[-1]]\n",
    "#check output against starting string\n",
    "#print(li)  \n",
    "print(pl)\n",
    "print(len(pl))\n",
    "\n",
    "\n",
    "\n",
    "\n"
   ]
  },
  {
   "cell_type": "code",
   "execution_count": 1,
   "metadata": {
    "collapsed": true
   },
   "outputs": [],
   "source": [
    "##Function to simplify date requests\n",
    "##Returns a list of strings which can be input into HTML query for different options calls\n",
    "\n",
    "import requests\n",
    "\n",
    "def OptionsFun(tikr):\n",
    "\n",
    "    tikr = str(tikr)\n",
    "\n",
    "    headers = {'User-Agent': 'Chrome/46.0.2490.80', 'Content-Type': 'text/html',}\n",
    "    r = requests.get('https://finance.yahoo.com/quote/'+tikr+'/options?p='+tikr, headers, timeout=5)\n",
    "    q = r.status_code\n",
    "\n",
    "    from bs4 import BeautifulSoup\n",
    "\n",
    "    soup = BeautifulSoup(r.content, 'lxml')\n",
    "    s = str(soup)\n",
    "\n",
    "    #use string serch queries to find desired values\n",
    "    exp = 'expirationDates\":['\n",
    "    a = s.find(exp)+len(exp)\n",
    "    #print(a)\n",
    "    b = s.find(']',a)\n",
    "    li = s[a:b]\n",
    "    #print(li)\n",
    "    end = ','\n",
    "    #initialize placeholder variables\n",
    "    s = 0\n",
    "    e = 0\n",
    "    pl = []\n",
    "\n",
    "    while s < len(li) and e != -1:\n",
    "        beg = s\n",
    "        e = li.find(end, beg)\n",
    "        pl = pl + [li[beg:e]]\n",
    "        s = e+1\n",
    "    pl[-1]=pl[-1]+li[-1]\n",
    "    return pl\n",
    "\n",
    "\n"
   ]
  },
  {
   "cell_type": "code",
   "execution_count": 2,
   "metadata": {},
   "outputs": [
    {
     "name": "stdout",
     "output_type": "stream",
     "text": [
      "['1507248000', '1507852800', '1508457600', '1509062400', '1509667200', '1510272000', '1510876800', '1511481600', '1513296000', '1516320000', '1521158400', '1529020800', '1537488000', '1547769600']\n",
      "14\n"
     ]
    }
   ],
   "source": [
    "## Test function output\n",
    "k = OptionsFun('MO')\n",
    "print(k)\n",
    "print(len(k))"
   ]
  },
  {
   "cell_type": "code",
   "execution_count": null,
   "metadata": {},
   "outputs": [],
   "source": [
    "##Function to pull options data from yahoo finance for all listed execution dates using OptionsFun\n",
    "#Returns csv files labeled by stock symbol and execution data which contain options data including: \n",
    "#...strike price, implied volatility, volume, and contract name\n",
    "\n",
    "import requests\n",
    "import pandas as pd\n",
    "\n",
    "\n",
    "tikr = 'MO'\n",
    "k = OptionsFun(tikr)\n",
    "\n",
    "for i in range(len(k)):\n",
    "    \n",
    "    r = requests.get('https://finance.yahoo.com/quote/'+tikr+'/options?p='+tikr+'&date='+k[i])\n",
    "\n",
    "    from lxml import html\n",
    "\n",
    "    tree = html.fromstring(r.content)\n",
    "    #read date for options execution\n",
    "    date = tree.xpath('//span[@class=\"Fz(s) Mend(10px)\"]/text()')[0]\n",
    "    ##Use requests module with html reader to get list of options\n",
    "    strike = tree.xpath('//a[@href=\"/quote/'+tikr+'/options?strike=false&straddle=false\"]/text()')  #strike price\n",
    "    IV = tree.xpath('//td[@class=\"data-col10 Ta(end) Pstart(7px) Pend(6px)\"]/text()') #implied volatility\n",
    "    volume = tree.xpath('//td[@class=\"data-col8 Ta(end) Pstart(7px)\"]/text()') #volume\n",
    "    contract = tree.xpath('//a[@class=\"Fz(s) Ell C($c-fuji-blue-1-b)\"]/text()') #contract name 'P' indicates put 'C' indicates call\n",
    "    print(date)\n",
    "    for i in range(len(contract)):\n",
    "        strike[i] = float(strike[i])\n",
    "        volume[i] = int(volume[i])\n",
    "        IV[i] = float(IV[i].strip('%'))/100\n",
    "\n",
    "    options = pd.DataFrame({'strike':strike, 'IV':IV, 'volume':volume}, index = contract)\n",
    "    #print(options)\n",
    "    #file_name = str(date)\n",
    "    #options.to_csv(tikr+'_'+date+'2.csv')\n"
   ]
  }
 ],
 "metadata": {
  "kernelspec": {
   "display_name": "Python 3",
   "language": "python",
   "name": "python3"
  },
  "language_info": {
   "codemirror_mode": {
    "name": "ipython",
    "version": 3
   },
   "file_extension": ".py",
   "mimetype": "text/x-python",
   "name": "python",
   "nbconvert_exporter": "python",
   "pygments_lexer": "ipython3",
   "version": "3.6.1"
  }
 },
 "nbformat": 4,
 "nbformat_minor": 2
}
